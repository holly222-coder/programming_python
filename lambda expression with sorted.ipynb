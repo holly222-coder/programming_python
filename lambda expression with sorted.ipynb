{
 "cells": [
  {
   "cell_type": "markdown",
   "id": "dc1db807",
   "metadata": {},
   "source": [
    "Once again, sort the list nums based on the last digit of each number from highest to lowest. However, now you should do so by writing a lambda function. Save the new list as nums_sorted_lambda."
   ]
  },
  {
   "cell_type": "code",
   "execution_count": null,
   "id": "672fcafe",
   "metadata": {},
   "outputs": [],
   "source": [
    "nums = ['1450', '33', '871', '19', '14378', '32', '1005', '44', '8907', '16']\n",
    "def last_char(str):\n",
    "    return str[-1]\n",
    "nums_sorted_lambda = sorted(nums, reverse=True, key=lambda x: last_char(x))\n",
    "\n"
   ]
  }
 ],
 "metadata": {
  "kernelspec": {
   "display_name": "Python 3 (ipykernel)",
   "language": "python",
   "name": "python3"
  },
  "language_info": {
   "codemirror_mode": {
    "name": "ipython",
    "version": 3
   },
   "file_extension": ".py",
   "mimetype": "text/x-python",
   "name": "python",
   "nbconvert_exporter": "python",
   "pygments_lexer": "ipython3",
   "version": "3.9.7"
  }
 },
 "nbformat": 4,
 "nbformat_minor": 5
}
