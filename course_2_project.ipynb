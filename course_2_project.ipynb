{
 "cells": [
  {
   "cell_type": "markdown",
   "id": "32a8d194",
   "metadata": {},
   "source": [
    "We have provided some synthetic (fake, semi-randomly generated) twitter data in a csv file named project_twitter_data.csv which has the text of a tweet, the number of retweets of that tweet, and the number of replies to that tweet. We have also words that express positive sentiment and negative sentiment, in the files positive_words.txt and negative_words.txt.\n",
    "\n",
    "Your task is to build a sentiment classifier, which will detect how positive or negative each tweet is. You will create a csv file, which contains columns for the Number of Retweets, Number of Replies, Positive Score (which is how many happy words are in the tweet), Negative Score (which is how many angry words are in the tweet), and the Net Score for each tweet. At the end, you upload the csv file to Excel or Google Sheets, and produce a graph of the Net Score vs Number of Retweets.\n",
    "\n",
    "To start, define a function called strip_punctuation which takes one parameter, a string which represents a word, and removes characters considered punctuation from everywhere in the word. (Hint: remember the .replace() method for strings.)"
   ]
  },
  {
   "cell_type": "code",
   "execution_count": 1,
   "id": "a765cf0c",
   "metadata": {},
   "outputs": [],
   "source": [
    "punctuation_chars = [\"'\", '\"', \",\", \".\", \"!\", \":\", \";\", '#', '@']\n",
    "def strip_punctuation(x):\n",
    "    \n",
    "    for ch in punctuation_chars:\n",
    "        x=x.replace(ch,\"\")\n",
    "    return x"
   ]
  },
  {
   "cell_type": "markdown",
   "id": "b7ae37d7",
   "metadata": {},
   "source": [
    "Next, copy in your strip_punctuation function and define a function called get_pos which takes one parameter, a string which represents one or more sentences, and calculates how many words in the string are considered positive words. Use the list, positive_words to determine what words will count as positive. The function should return a positive integer - how many occurrences there are of positive words in the text. Note that all of the words in positive_words are lower cased, so you’ll need to convert all the words in the input string to lower case as well."
   ]
  },
  {
   "cell_type": "code",
   "execution_count": null,
   "id": "cb0e4d9f",
   "metadata": {},
   "outputs": [],
   "source": [
    "punctuation_chars = [\"'\", '\"', \",\", \".\", \"!\", \":\", \";\", '#', '@']\n",
    "# list of positive words to use\n",
    "positive_words = []\n",
    "with open(\"positive_words.txt\") as pos_f:\n",
    "    for lin in pos_f:\n",
    "        if lin[0] != ';' and lin[0] != '\\n':\n",
    "            positive_words.append(lin.strip())\n",
    "         \n",
    "\n",
    "    def strip_punctuation(x):\n",
    "   \n",
    "        for ch in punctuation_chars:\n",
    "            x=x.replace(ch,\"\")\n",
    "        return x\n",
    "\n",
    "    def get_pos(sens):\n",
    "        ct =0\n",
    "        for y in strip_punctuation(str(sens).lower()).split():\n",
    "            if y in positive_words:\n",
    "                ct = ct + 1\n",
    "        return ct\n",
    "    \n",
    "  "
   ]
  },
  {
   "cell_type": "markdown",
   "id": "51c431c9",
   "metadata": {},
   "source": [
    "Next, copy in your strip_punctuation function and define a function called get_neg which takes one parameter, a string which represents one or more sentences, and calculates how many words in the string are considered negative words. Use the list, negative_words to determine what words will count as negative. The function should return a positive integer - how many occurrences there are of negative words in the text. Note that all of the words in negative_words are lower cased, so you’ll need to convert all the words in the input string to lower case as well."
   ]
  },
  {
   "cell_type": "code",
   "execution_count": null,
   "id": "4ba6d81d",
   "metadata": {},
   "outputs": [],
   "source": [
    "punctuation_chars = [\"'\", '\"', \",\", \".\", \"!\", \":\", \";\", '#', '@']\n",
    "\n",
    "negative_words = []\n",
    "with open(\"negative_words.txt\") as pos_f:\n",
    "    for lin in pos_f:\n",
    "        if lin[0] != ';' and lin[0] != '\\n':\n",
    "            negative_words.append(lin.strip())\n",
    "    def strip_punctuation(x):\n",
    "   \n",
    "        for ch in punctuation_chars:\n",
    "            x=x.replace(ch,\"\")\n",
    "        return x\n",
    "\n",
    "    def get_neg(sens):\n",
    "        ct =0\n",
    "        for y in strip_punctuation(str(sens).lower()).split():\n",
    "            if y in negative_words:\n",
    "                ct = ct + 1\n",
    "        return ct\n",
    "    \n",
    "\n"
   ]
  },
  {
   "cell_type": "markdown",
   "id": "b2b50e6c",
   "metadata": {},
   "source": [
    "Finally, copy in your previous functions and write code that opens the file project_twitter_data.csv which has the fake generated twitter data (the text of a tweet, the number of retweets of that tweet, and the number of replies to that tweet). Your task is to build a sentiment classifier, which will detect how positive or negative each tweet is. Copy the code from the code windows above, and put that in the top of this code window. Now, you will write code to create a csv file called resulting_data.csv, which contains the Number of Retweets, Number of Replies, Positive Score (which is how many happy words are in the tweet), Negative Score (which is how many angry words are in the tweet), and the Net Score (how positive or negative the text is overall) for each tweet. The file should have those headers in that order. Remember that there is another component to this project. You will upload the csv file to Excel or Google Sheets and produce a graph of the Net Score vs Number of Retweets. Check Coursera for that portion of the assignment, if you’re accessing this textbook from Coursera."
   ]
  },
  {
   "cell_type": "code",
   "execution_count": null,
   "id": "858acfa3",
   "metadata": {},
   "outputs": [],
   "source": [
    "punctuation_chars = [\"'\", '\"', \",\", \".\", \"!\", \":\", \";\", '#', '@']\n",
    "# lists of words to use\n",
    "positive_words = []\n",
    "with open(\"positive_words.txt\") as pos_f:\n",
    "    for lin in pos_f:\n",
    "        if lin[0] != ';' and lin[0] != '\\n':\n",
    "            positive_words.append(lin.strip())\n",
    "         \n",
    "\n",
    "    def strip_punctuation(x):\n",
    "   \n",
    "        for ch in punctuation_chars:\n",
    "            x=x.replace(ch,\"\")\n",
    "        return x\n",
    "\n",
    "    def get_pos(sens):\n",
    "        ct =0\n",
    "        for y in strip_punctuation(str(sens).lower()).split():\n",
    "            if y in positive_words:\n",
    "                ct = ct + 1\n",
    "        return ct\n",
    "    \n",
    "\n",
    "\n",
    "negative_words = []\n",
    "with open(\"negative_words.txt\") as pos_f:\n",
    "    for lin in pos_f:\n",
    "        if lin[0] != ';' and lin[0] != '\\n':\n",
    "            negative_words.append(lin.strip())\n",
    "    def strip_punctuation(x):\n",
    "   \n",
    "        for ch in punctuation_chars:\n",
    "            x=x.replace(ch,\"\")\n",
    "        return x\n",
    "\n",
    "    def get_neg(sens):\n",
    "        ct =0\n",
    "        for y in strip_punctuation(str(sens).lower()).split():\n",
    "            if y in negative_words:\n",
    "                ct = ct + 1\n",
    "        return ct\n",
    "    \n",
    "\n",
    "fileref=open(\"project_twitter_data.csv\",\"r\")\n",
    "data = fileref.readlines()\n",
    "\n",
    "#The following code writes in the csv file named resulting_data\n",
    "outfile=open(\"resulting_data.csv\",\"w\")\n",
    "outfile.write(\"Number of Retweets, Number of Replies, Positive Score, Negative Score, Net Score\")\n",
    "outfile.write(\"\\n\")\n",
    "\n",
    "for i in data[1:]:\n",
    "    res_row=\"\"\n",
    "    splt=i.strip().split(\",\")           #Leading and trailing whitespaces are removed with strip\n",
    "    res_row=(\"{},{},{},{},{}\".format(splt[1], splt[2], get_pos(splt[0]), get_neg(splt[0]), (get_pos(splt[0])-get_neg(splt[0]))))\n",
    "    outfile.write(res_row)\n",
    "    outfile.write(\"\\n\")\n",
    "\n",
    "outfile.close()\n"
   ]
  }
 ],
 "metadata": {
  "kernelspec": {
   "display_name": "Python 3 (ipykernel)",
   "language": "python",
   "name": "python3"
  },
  "language_info": {
   "codemirror_mode": {
    "name": "ipython",
    "version": 3
   },
   "file_extension": ".py",
   "mimetype": "text/x-python",
   "name": "python",
   "nbconvert_exporter": "python",
   "pygments_lexer": "ipython3",
   "version": "3.9.7"
  }
 },
 "nbformat": 4,
 "nbformat_minor": 5
}
