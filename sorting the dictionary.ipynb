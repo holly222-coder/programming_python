{
 "cells": [
  {
   "cell_type": "markdown",
   "id": "2b7640b0",
   "metadata": {},
   "source": [
    " Sort the following dictionary’s keys based on the value from highest to lowest. Assign the resulting value to the variable sorted_values."
   ]
  },
  {
   "cell_type": "code",
   "execution_count": 1,
   "id": "09500106",
   "metadata": {},
   "outputs": [],
   "source": [
    "dictionary = {\"Flowers\": 10, 'Trees': 20, 'Chairs': 6, \"Firepit\": 1, 'Grill': 2, 'Lights': 14}\n",
    "\n",
    "sorted_values = sorted(dictionary.keys(), key=lambda x :dictionary[x],reverse=True)"
   ]
  },
  {
   "cell_type": "code",
   "execution_count": null,
   "id": "11d641e1",
   "metadata": {},
   "outputs": [],
   "source": []
  }
 ],
 "metadata": {
  "kernelspec": {
   "display_name": "Python 3 (ipykernel)",
   "language": "python",
   "name": "python3"
  },
  "language_info": {
   "codemirror_mode": {
    "name": "ipython",
    "version": 3
   },
   "file_extension": ".py",
   "mimetype": "text/x-python",
   "name": "python",
   "nbconvert_exporter": "python",
   "pygments_lexer": "ipython3",
   "version": "3.9.7"
  }
 },
 "nbformat": 4,
 "nbformat_minor": 5
}
