{
 "cells": [
  {
   "cell_type": "markdown",
   "id": "0d76e5d6",
   "metadata": {},
   "source": [
    "Create a function called last_four that takes in a single ID number and returns the last four digits. For example, the number 17573005 should return 3005. Then, use the resulting function to sort the list of ids stored in the variable, ids, from lowest to highest. Save this sorted list in the variable, sorted_ids. Hint: Remember that only strings can be indexed, so conversions may be needed."
   ]
  },
  {
   "cell_type": "code",
   "execution_count": 1,
   "id": "9e13d6be",
   "metadata": {},
   "outputs": [],
   "source": [
    "\n",
    "def last_four(x):        \n",
    "     return str(x)[-4:]\n",
    "\n",
    "ids = [17573005, 17572342, 17579000, 17570002, 17572345, 17579329]\n",
    "sorted_ids = sorted(ids, key= last_four)\n"
   ]
  },
  {
   "cell_type": "markdown",
   "id": "09b96d54",
   "metadata": {},
   "source": [
    "Sort the list ids by the last four digits of each id. Do this using lambda and not using a defined function. Save this sorted list in the variable sorted_id."
   ]
  },
  {
   "cell_type": "code",
   "execution_count": 2,
   "id": "8a14aac1",
   "metadata": {},
   "outputs": [],
   "source": [
    "\n",
    "ids = [17573005, 17572342, 17579000, 17570002, 17572345, 17579329]\n",
    "sorted_id = sorted(ids, key=lambda x: str(x)[-4:])"
   ]
  },
  {
   "cell_type": "markdown",
   "id": "7b95608f",
   "metadata": {},
   "source": [
    "Sort the following list by each element’s second letter a to z. Do so by using lambda. Assign the resulting value to the variable lambda_sort."
   ]
  },
  {
   "cell_type": "code",
   "execution_count": 3,
   "id": "12e94639",
   "metadata": {},
   "outputs": [],
   "source": [
    "ex_lst = ['hi', 'how are you', 'bye', 'apple', 'zebra', 'dance']\n",
    "lambda_sort = sorted(ex_lst, key=lambda x: x[1])"
   ]
  }
 ],
 "metadata": {
  "kernelspec": {
   "display_name": "Python 3 (ipykernel)",
   "language": "python",
   "name": "python3"
  },
  "language_info": {
   "codemirror_mode": {
    "name": "ipython",
    "version": 3
   },
   "file_extension": ".py",
   "mimetype": "text/x-python",
   "name": "python",
   "nbconvert_exporter": "python",
   "pygments_lexer": "ipython3",
   "version": "3.9.7"
  }
 },
 "nbformat": 4,
 "nbformat_minor": 5
}
