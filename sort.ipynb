{
 "cells": [
  {
   "cell_type": "markdown",
   "id": "b00351d0",
   "metadata": {},
   "source": [
    "Create a function called last_four that takes in a single ID number and returns the last four digits. For example, the number 17573005 should return 3005. Then, use the resulting function to sort the list of ids stored in the variable, ids, from lowest to highest. Save this sorted list in the variable, sorted_ids. Hint: Remember that only strings can be indexed, so conversions may be needed."
   ]
  },
  {
   "cell_type": "code",
   "execution_count": 1,
   "id": "1bbc2515",
   "metadata": {},
   "outputs": [],
   "source": [
    "def last_four(x):        \n",
    "     return str(x)[-1:-4]\n",
    "\n",
    "ids = [17573005, 17572342, 17579000, 17570002, 17572345, 17579329]\n",
    "sorted_ids = sorted(ids, key= lambda item: last_four(item))\n"
   ]
  },
  {
   "cell_type": "code",
   "execution_count": null,
   "id": "2ea675cb",
   "metadata": {},
   "outputs": [],
   "source": []
  }
 ],
 "metadata": {
  "kernelspec": {
   "display_name": "Python 3 (ipykernel)",
   "language": "python",
   "name": "python3"
  },
  "language_info": {
   "codemirror_mode": {
    "name": "ipython",
    "version": 3
   },
   "file_extension": ".py",
   "mimetype": "text/x-python",
   "name": "python",
   "nbconvert_exporter": "python",
   "pygments_lexer": "ipython3",
   "version": "3.9.7"
  }
 },
 "nbformat": 4,
 "nbformat_minor": 5
}
